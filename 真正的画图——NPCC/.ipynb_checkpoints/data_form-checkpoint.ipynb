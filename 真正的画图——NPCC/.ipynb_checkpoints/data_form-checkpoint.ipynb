{
 "cells": [
  {
   "cell_type": "code",
   "execution_count": 105,
   "metadata": {
    "ExecuteTime": {
     "end_time": "2021-05-16T07:32:37.614069Z",
     "start_time": "2021-05-16T07:32:37.609555Z"
    }
   },
   "outputs": [],
   "source": [
    "import xlrd\n",
    "import pandas as pd\n",
    "import numpy as np\n",
    "import matplotlib.pyplot as plt\n",
    "from matplotlib.pyplot import figure\n",
    "import pandas as pd\n",
    "import csv\n",
    "import os\n",
    "from sklearn.cluster import KMeans\n",
    "import math\n",
    "import matplotlib\n",
    "import seaborn as sns\n",
    "import time\n",
    "import datetime\n",
    "import math\n",
    "import random\n",
    "import xlsxwriter\n",
    "path_NPCC = \"./data48em/map_data_buses_NPCC.csv\""
   ]
  },
  {
   "cell_type": "code",
   "execution_count": 106,
   "metadata": {
    "ExecuteTime": {
     "end_time": "2021-05-16T07:32:37.957771Z",
     "start_time": "2021-05-16T07:32:37.938762Z"
    }
   },
   "outputs": [],
   "source": [
    "Index = [];\n",
    "LatLon = [];\n",
    "GenorLoad = [];\n",
    "for i in range(0,len(wb.bus)-1):\n",
    "    Index.append(int(wb.bus[i+1]) + 1)\n",
    "    LatLon.append(str(float((wb.lat[i+1])))+','+str(float(wb.lon[i+1][1:])))\n",
    "    if wb.gen[i] == '-' :\n",
    "        GenorLoad.append(0)\n",
    "    elif wb.gen[i] != '-':\n",
    "        GenorLoad.append(1)"
   ]
  },
  {
   "cell_type": "code",
   "execution_count": 107,
   "metadata": {
    "ExecuteTime": {
     "end_time": "2021-05-16T07:32:38.454754Z",
     "start_time": "2021-05-16T07:32:38.451835Z"
    }
   },
   "outputs": [],
   "source": [
    "#write_csv函数\n",
    "#功能：输入List和对应的File_name\n",
    "def write_csv(List_index,LatLon,GenorLoad,File_name):\n",
    "    dataframe = pd.DataFrame(zip(List_index,LatLon,GenorLoad),columns=['index','LatLon','GenorLoad'])\n",
    "    dataframe.to_csv(File_name,encoding='gbk',index = False,header = True)\n",
    "    return"
   ]
  },
  {
   "cell_type": "code",
   "execution_count": 108,
   "metadata": {
    "ExecuteTime": {
     "end_time": "2021-05-16T07:32:39.820411Z",
     "start_time": "2021-05-16T07:32:39.815623Z"
    }
   },
   "outputs": [],
   "source": [
    "write_csv(list(Index),list(LatLon),list(GenorLoad),'output3.csv')"
   ]
  },
  {
   "cell_type": "code",
   "execution_count": 26,
   "metadata": {
    "ExecuteTime": {
     "end_time": "2021-05-16T06:47:06.928743Z",
     "start_time": "2021-05-16T06:47:06.924330Z"
    }
   },
   "outputs": [],
   "source": [
    "wb = pd.read_csv(path_NPCC,\n",
    "                      names = ['bus','lat','lon','gen'],\n",
    "                      sep=',')"
   ]
  },
  {
   "cell_type": "code",
   "execution_count": 87,
   "metadata": {
    "ExecuteTime": {
     "end_time": "2021-05-16T07:24:42.849099Z",
     "start_time": "2021-05-16T07:24:42.845794Z"
    }
   },
   "outputs": [
    {
     "data": {
      "text/plain": [
       "'77.14054'"
      ]
     },
     "execution_count": 87,
     "metadata": {},
     "output_type": "execute_result"
    }
   ],
   "source": [
    "str(float((wb.lon[1+1][1:]))+5)"
   ]
  },
  {
   "cell_type": "code",
   "execution_count": null,
   "metadata": {
    "ExecuteTime": {
     "end_time": "2021-05-16T07:17:28.420092Z",
     "start_time": "2021-05-16T07:17:28.402267Z"
    }
   },
   "outputs": [],
   "source": []
  },
  {
   "cell_type": "code",
   "execution_count": 31,
   "metadata": {
    "ExecuteTime": {
     "end_time": "2021-05-16T06:48:24.980292Z",
     "start_time": "2021-05-16T06:48:24.968117Z"
    }
   },
   "outputs": [
    {
     "name": "stderr",
     "output_type": "stream",
     "text": [
      "/usr/local/lib/python3.7/site-packages/ipykernel_launcher.py:2: SettingWithCopyWarning: \n",
      "A value is trying to be set on a copy of a slice from a DataFrame\n",
      "\n",
      "See the caveats in the documentation: https://pandas.pydata.org/pandas-docs/stable/user_guide/indexing.html#returning-a-view-versus-a-copy\n",
      "  \n"
     ]
    }
   ],
   "source": [
    "for i in range(1,len(wb.bus)):\n",
    "    wb.latlon[i] = 1"
   ]
  },
  {
   "cell_type": "code",
   "execution_count": 32,
   "metadata": {
    "ExecuteTime": {
     "end_time": "2021-05-16T06:48:25.298680Z",
     "start_time": "2021-05-16T06:48:25.294083Z"
    }
   },
   "outputs": [
    {
     "data": {
      "text/plain": [
       "0      NaN\n",
       "1      1.0\n",
       "2      1.0\n",
       "3      1.0\n",
       "4      1.0\n",
       "      ... \n",
       "136    1.0\n",
       "137    1.0\n",
       "138    1.0\n",
       "139    1.0\n",
       "140    1.0\n",
       "Name: latlon, Length: 141, dtype: float64"
      ]
     },
     "execution_count": 32,
     "metadata": {},
     "output_type": "execute_result"
    }
   ],
   "source": [
    "wb.latlon"
   ]
  },
  {
   "cell_type": "code",
   "execution_count": 8,
   "metadata": {
    "ExecuteTime": {
     "end_time": "2021-05-16T06:40:26.541486Z",
     "start_time": "2021-05-16T06:40:26.539050Z"
    }
   },
   "outputs": [
    {
     "name": "stdout",
     "output_type": "stream",
     "text": [
      "Bus\n",
      "Lat\n",
      "Lon\n",
      "Generators\n"
     ]
    }
   ],
   "source": [
    "for row in workbook:\n",
    "    print(row)"
   ]
  },
  {
   "cell_type": "code",
   "execution_count": null,
   "metadata": {},
   "outputs": [],
   "source": [
    "for loopin range(1,len)"
   ]
  }
 ],
 "metadata": {
  "kernelspec": {
   "display_name": "Python 3",
   "language": "python",
   "name": "python3"
  },
  "language_info": {
   "codemirror_mode": {
    "name": "ipython",
    "version": 3
   },
   "file_extension": ".py",
   "mimetype": "text/x-python",
   "name": "python",
   "nbconvert_exporter": "python",
   "pygments_lexer": "ipython3",
   "version": "3.7.7"
  }
 },
 "nbformat": 4,
 "nbformat_minor": 4
}
