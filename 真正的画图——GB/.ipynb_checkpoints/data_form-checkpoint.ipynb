{
 "cells": [
  {
   "cell_type": "code",
   "execution_count": 123,
   "metadata": {
    "ExecuteTime": {
     "end_time": "2021-05-16T07:44:29.250158Z",
     "start_time": "2021-05-16T07:44:29.246344Z"
    }
   },
   "outputs": [],
   "source": [
    "import xlrd\n",
    "import pandas as pd\n",
    "import numpy as np\n",
    "import matplotlib.pyplot as plt\n",
    "from matplotlib.pyplot import figure\n",
    "import pandas as pd\n",
    "import csv\n",
    "import os\n",
    "from sklearn.cluster import KMeans\n",
    "import math\n",
    "import matplotlib\n",
    "import seaborn as sns\n",
    "import time\n",
    "import datetime\n",
    "import math\n",
    "import random\n",
    "import xlsxwriter\n",
    "path_NPCC = \"./oats_to_matpower/raw_code/GB_ReducedNetwork.xlsx\"\n",
    "path_adjacency = \"./data48em/npcc_adjacency.txt\""
   ]
  },
  {
   "cell_type": "code",
   "execution_count": 132,
   "metadata": {
    "ExecuteTime": {
     "end_time": "2021-05-16T08:00:46.686914Z",
     "start_time": "2021-05-16T08:00:46.680021Z"
    }
   },
   "outputs": [],
   "source": [
    "#读入文件部分，读入path_NPCC以及path_adjencecy\n",
    "wb = pd.read_csv(path_NPCC,\n",
    "                      names = ['bus','lat','lon','gen'],\n",
    "                      sep=',')\n",
    "\n",
    "with open(path_adjacency) as lines:  \n",
    "    array=lines.readlines()  \n",
    "    array2=[] \n",
    "    for i in array: \n",
    "        i=i.strip('\\n') \n",
    "        items=i.split(',') \n",
    "        for item in items:\n",
    "            array2.append(item)\n",
    "num_line = int(np.floor(len(array2)/2));"
   ]
  },
  {
   "cell_type": "code",
   "execution_count": null,
   "metadata": {
    "ExecuteTime": {
     "end_time": "2021-05-16T07:52:32.402622Z",
     "start_time": "2021-05-16T07:52:32.398375Z"
    }
   },
   "outputs": [],
   "source": []
  },
  {
   "cell_type": "code",
   "execution_count": 136,
   "metadata": {
    "ExecuteTime": {
     "end_time": "2021-05-16T08:02:14.763501Z",
     "start_time": "2021-05-16T08:02:14.743108Z"
    }
   },
   "outputs": [],
   "source": [
    "#生成输出的单元格内容，\n",
    "#对于点文件包含Index，LatLon，GenorLoad\n",
    "#对于线文件包含Line_Index,Line_start,Line_end,Line\n",
    "Index = [];\n",
    "LatLon = [];\n",
    "GenorLoad = [];\n",
    "for i in range(0,len(wb.bus)-1):\n",
    "    Index.append(int(wb.bus[i+1]) + 1)\n",
    "    LatLon.append(str(float((wb.lon[i+1])))+','+str(float(wb.lat[i+1])))\n",
    "    if wb.gen[i] == '-' :\n",
    "        GenorLoad.append(0)\n",
    "    elif wb.gen[i] != '-':\n",
    "        GenorLoad.append(1)\n",
    "Line_Index = [];\n",
    "Line_start = [];\n",
    "Line_end = [];\n",
    "Line = [];\n",
    "\n",
    "for i in range(0,num_line):\n",
    "    Line_Index.append(i + 1)\n",
    "    Line_start.append(array2[i * 2])\n",
    "    Line_end.append(array2[i * 2 + 1])\n",
    "    Line.append('[' + LatLon[int(array2[i * 2])-1] + ']' + ',' + '[' + LatLon[int(array2[i * 2 + 1])-1] + ']')"
   ]
  },
  {
   "cell_type": "code",
   "execution_count": 139,
   "metadata": {
    "ExecuteTime": {
     "end_time": "2021-05-16T08:04:21.432905Z",
     "start_time": "2021-05-16T08:04:21.429743Z"
    }
   },
   "outputs": [],
   "source": [
    "#write_csv_point函数\n",
    "#功能：输出符合高德地图点类型的csv文件\n",
    "def write_csv_point(List_index,LatLon,GenorLoad,File_name):\n",
    "    dataframe = pd.DataFrame(zip(List_index,LatLon,GenorLoad),columns=['index','LatLon','GenorLoad'])\n",
    "    dataframe.to_csv(File_name,encoding='gbk',index = False,header = True)\n",
    "    return"
   ]
  },
  {
   "cell_type": "code",
   "execution_count": 140,
   "metadata": {
    "ExecuteTime": {
     "end_time": "2021-05-16T08:04:21.911269Z",
     "start_time": "2021-05-16T08:04:21.908058Z"
    }
   },
   "outputs": [],
   "source": [
    "#write_csv_line函数\n",
    "#功能：输出符合高德地图线类型的csv文件\n",
    "def write_csv_line(Line_index,Line_start,Line_end,Line,File_name):\n",
    "    dataframe = pd.DataFrame(zip(Line_index,Line_start,Line_end,Line),\n",
    "                             columns=['Line_index','Line_start','Line_end','Line'])\n",
    "    dataframe.to_csv(File_name,encoding='gbk',index = False,header = True)\n",
    "    return"
   ]
  },
  {
   "cell_type": "code",
   "execution_count": 141,
   "metadata": {
    "ExecuteTime": {
     "end_time": "2021-05-16T08:04:22.367649Z",
     "start_time": "2021-05-16T08:04:22.359279Z"
    }
   },
   "outputs": [],
   "source": [
    "write_csv_point(list(Index),list(LatLon),list(GenorLoad),'NPCC.csv')\n",
    "write_csv_line(list(Line_Index),list(Line_start),list(Line_end),list(Line),'NPCC_adjencency.csv')"
   ]
  },
  {
   "cell_type": "code",
   "execution_count": 112,
   "metadata": {
    "ExecuteTime": {
     "end_time": "2021-05-16T07:37:57.446580Z",
     "start_time": "2021-05-16T07:37:57.441934Z"
    }
   },
   "outputs": [],
   "source": [
    "wb = pd.read_csv(path_NPCC,\n",
    "                      names = ['bus','lat','lon','gen'],\n",
    "                      sep=',')"
   ]
  },
  {
   "cell_type": "code",
   "execution_count": 87,
   "metadata": {
    "ExecuteTime": {
     "end_time": "2021-05-16T07:24:42.849099Z",
     "start_time": "2021-05-16T07:24:42.845794Z"
    }
   },
   "outputs": [
    {
     "data": {
      "text/plain": [
       "'77.14054'"
      ]
     },
     "execution_count": 87,
     "metadata": {},
     "output_type": "execute_result"
    }
   ],
   "source": [
    "str(float((wb.lon[1+1][1:]))+5)"
   ]
  },
  {
   "cell_type": "code",
   "execution_count": null,
   "metadata": {
    "ExecuteTime": {
     "end_time": "2021-05-16T07:17:28.420092Z",
     "start_time": "2021-05-16T07:17:28.402267Z"
    }
   },
   "outputs": [],
   "source": []
  },
  {
   "cell_type": "code",
   "execution_count": 31,
   "metadata": {
    "ExecuteTime": {
     "end_time": "2021-05-16T06:48:24.980292Z",
     "start_time": "2021-05-16T06:48:24.968117Z"
    }
   },
   "outputs": [
    {
     "name": "stderr",
     "output_type": "stream",
     "text": [
      "/usr/local/lib/python3.7/site-packages/ipykernel_launcher.py:2: SettingWithCopyWarning: \n",
      "A value is trying to be set on a copy of a slice from a DataFrame\n",
      "\n",
      "See the caveats in the documentation: https://pandas.pydata.org/pandas-docs/stable/user_guide/indexing.html#returning-a-view-versus-a-copy\n",
      "  \n"
     ]
    }
   ],
   "source": [
    "for i in range(1,len(wb.bus)):\n",
    "    wb.latlon[i] = 1"
   ]
  },
  {
   "cell_type": "code",
   "execution_count": 32,
   "metadata": {
    "ExecuteTime": {
     "end_time": "2021-05-16T06:48:25.298680Z",
     "start_time": "2021-05-16T06:48:25.294083Z"
    }
   },
   "outputs": [
    {
     "data": {
      "text/plain": [
       "0      NaN\n",
       "1      1.0\n",
       "2      1.0\n",
       "3      1.0\n",
       "4      1.0\n",
       "      ... \n",
       "136    1.0\n",
       "137    1.0\n",
       "138    1.0\n",
       "139    1.0\n",
       "140    1.0\n",
       "Name: latlon, Length: 141, dtype: float64"
      ]
     },
     "execution_count": 32,
     "metadata": {},
     "output_type": "execute_result"
    }
   ],
   "source": [
    "wb.latlon"
   ]
  },
  {
   "cell_type": "code",
   "execution_count": 8,
   "metadata": {
    "ExecuteTime": {
     "end_time": "2021-05-16T06:40:26.541486Z",
     "start_time": "2021-05-16T06:40:26.539050Z"
    }
   },
   "outputs": [
    {
     "name": "stdout",
     "output_type": "stream",
     "text": [
      "Bus\n",
      "Lat\n",
      "Lon\n",
      "Generators\n"
     ]
    }
   ],
   "source": [
    "for row in workbook:\n",
    "    print(row)"
   ]
  },
  {
   "cell_type": "code",
   "execution_count": null,
   "metadata": {},
   "outputs": [],
   "source": [
    "for loopin range(1,len)"
   ]
  }
 ],
 "metadata": {
  "kernelspec": {
   "display_name": "Python 3",
   "language": "python",
   "name": "python3"
  },
  "language_info": {
   "codemirror_mode": {
    "name": "ipython",
    "version": 3
   },
   "file_extension": ".py",
   "mimetype": "text/x-python",
   "name": "python",
   "nbconvert_exporter": "python",
   "pygments_lexer": "ipython3",
   "version": "3.7.7"
  }
 },
 "nbformat": 4,
 "nbformat_minor": 4
}
